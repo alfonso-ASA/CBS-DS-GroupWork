{
 "cells": [
  {
   "cell_type": "code",
   "execution_count": 4,
   "id": "5e7bba66",
   "metadata": {},
   "outputs": [
    {
     "name": "stdout",
     "output_type": "stream",
     "text": [
      "Hello Teo!\n"
     ]
    }
   ],
   "source": [
    "print(\"Hello Teo!\");"
   ]
  },
  {
   "cell_type": "code",
   "execution_count": null,
   "id": "e654f491",
   "metadata": {},
   "outputs": [],
   "source": []
  }
 ],
 "metadata": {
  "kernelspec": {
   "display_name": "Python 3 (ipykernel)",
   "language": "python",
   "name": "python3"
  },
  "language_info": {
   "codemirror_mode": {
    "name": "ipython",
    "version": 3
   },
   "file_extension": ".py",
   "mimetype": "text/x-python",
   "name": "python",
   "nbconvert_exporter": "python",
   "pygments_lexer": "ipython3",
   "version": "3.9.7"
  }
 },
 "nbformat": 4,
 "nbformat_minor": 5
}
